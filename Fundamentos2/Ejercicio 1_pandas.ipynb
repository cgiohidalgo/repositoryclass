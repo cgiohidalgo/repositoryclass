{
 "cells": [
  {
   "cell_type": "markdown",
   "id": "9d5dcc2b",
   "metadata": {
    "nbgrader": {
     "grade": false,
     "grade_id": "cell-a084b391b5386999",
     "locked": true,
     "schema_version": 3,
     "solution": false,
     "task": false
    }
   },
   "source": [
    "<a style=\"color: black; font-size: x-large ; font-weight: bold\">Desarrolle el ejercicio usando las operaciones de Pandas</a> "
   ]
  },
  {
   "cell_type": "code",
   "execution_count": null,
   "id": "6a094fad",
   "metadata": {
    "nbgrader": {
     "grade": false,
     "grade_id": "cell-f118bc45f927c4fb",
     "locked": true,
     "schema_version": 3,
     "solution": false,
     "task": false
    }
   },
   "outputs": [],
   "source": [
    "import pandas as pd #Carga libreria Pandas\n",
    "from pandas.testing import assert_frame_equal #LIbrería para evaluar los dataframes"
   ]
  },
  {
   "cell_type": "markdown",
   "id": "395b07ff",
   "metadata": {
    "nbgrader": {
     "grade": false,
     "grade_id": "cell-e0611c85e852a5bb",
     "locked": true,
     "schema_version": 3,
     "solution": false,
     "task": false
    }
   },
   "source": [
    "## Cree un  diccionario con las notas de 5 alumnos (variable = datos)\n",
    "\n",
    "> - Clave: alumno\n",
    "> - Valor: alumno1, alumno2, alumno3, alumno4, alumno5\n",
    "> - Clave: nota\n",
    "> - Valor: 3.4, 2.7, 2.2, 4.6, 4.6   "
   ]
  },
  {
   "cell_type": "code",
   "execution_count": null,
   "id": "737a8354",
   "metadata": {
    "code_folding": [],
    "hide_input": false,
    "nbgrader": {
     "grade": false,
     "grade_id": "cell-223273bd947f4346",
     "locked": false,
     "schema_version": 3,
     "solution": true,
     "task": false
    }
   },
   "outputs": [],
   "source": [
    "datos = pd.DataFrame()\n",
    "    ### BEGIN SOLUTION\n",
    "datos = pd.DataFrame(data={\"alumno\":\n",
    "          [\"alumno1\",\"alumno2\",\"alumno3\",\"alumno4\",\"alumno5\"],\n",
    "          \"nota\":\n",
    "          [3.4, 2.7, 2.2, 4.6, 4.6]\n",
    "          })\n",
    "### END SOLUTION"
   ]
  },
  {
   "cell_type": "code",
   "execution_count": null,
   "id": "65a947d2",
   "metadata": {
    "nbgrader": {
     "grade": true,
     "grade_id": "cell-327564e721f6a023",
     "locked": true,
     "points": 1.6666666667,
     "schema_version": 3,
     "solution": false,
     "task": false
    }
   },
   "outputs": [],
   "source": [
    "pd.testing.assert_frame_equal(datos, datos)"
   ]
  },
  {
   "cell_type": "markdown",
   "id": "501f0258",
   "metadata": {
    "nbgrader": {
     "grade": false,
     "grade_id": "cell-76f3cb94fda34f5d",
     "locked": true,
     "schema_version": 3,
     "solution": false,
     "task": false
    }
   },
   "source": [
    "## Organizar la tabla con la notas de menor a mayor en una (variable datosDES = )"
   ]
  },
  {
   "cell_type": "code",
   "execution_count": null,
   "id": "bf23f80f",
   "metadata": {
    "nbgrader": {
     "grade": false,
     "grade_id": "cell-2ed1fb3fe2d6db53",
     "locked": false,
     "schema_version": 3,
     "solution": true,
     "task": false
    },
    "scrolled": false
   },
   "outputs": [],
   "source": [
    "### BEGIN SOLUTION\n",
    "datosDES = datos.sort_values([\"nota\"], ascending=True)\n",
    "### END SOLUTION"
   ]
  },
  {
   "cell_type": "code",
   "execution_count": null,
   "id": "c7b1f8fc",
   "metadata": {
    "nbgrader": {
     "grade": false,
     "grade_id": "cell-c692936d57d28c80",
     "locked": true,
     "schema_version": 3,
     "solution": false,
     "task": false
    }
   },
   "outputs": [],
   "source": [
    "datosDES"
   ]
  },
  {
   "cell_type": "code",
   "execution_count": null,
   "id": "273a1b5a",
   "metadata": {
    "nbgrader": {
     "grade": true,
     "grade_id": "cell-a5972ffa21ed9e5d",
     "locked": true,
     "points": 1.6666666667,
     "schema_version": 3,
     "solution": false,
     "task": false
    }
   },
   "outputs": [],
   "source": [
    "assert_frame_equal(datosDES, datosDES)"
   ]
  },
  {
   "cell_type": "markdown",
   "id": "b10d54fc",
   "metadata": {
    "nbgrader": {
     "grade": false,
     "grade_id": "cell-2bdbc3b005f5ba36",
     "locked": true,
     "schema_version": 3,
     "solution": false,
     "task": false
    }
   },
   "source": [
    "##  Agregue una nueva columna _\"Grado\"_ al final de la tabla, y a todas las filas pongale _\"Tercero\"_"
   ]
  },
  {
   "cell_type": "code",
   "execution_count": null,
   "id": "1727aa99",
   "metadata": {
    "nbgrader": {
     "grade": false,
     "grade_id": "cell-4c18fd7d4f7dca95",
     "locked": false,
     "schema_version": 3,
     "solution": true,
     "task": false
    }
   },
   "outputs": [],
   "source": [
    "### BEGIN SOLUTION\n",
    "datosDES['Grado'] = 'Tercero'\n",
    "### END SOLUTION"
   ]
  },
  {
   "cell_type": "code",
   "execution_count": null,
   "id": "21d50e1f",
   "metadata": {
    "nbgrader": {
     "grade": false,
     "grade_id": "cell-d30ea8fc954c1952",
     "locked": true,
     "schema_version": 3,
     "solution": false,
     "task": false
    }
   },
   "outputs": [],
   "source": [
    "datosDES "
   ]
  },
  {
   "cell_type": "code",
   "execution_count": null,
   "id": "9739545d",
   "metadata": {
    "nbgrader": {
     "grade": true,
     "grade_id": "cell-223095947f9e4dde",
     "locked": true,
     "points": 1.6666666667,
     "schema_version": 3,
     "solution": false,
     "task": false
    }
   },
   "outputs": [],
   "source": [
    "assert_frame_equal(datosDES, datosDES)"
   ]
  }
 ],
 "metadata": {
  "celltoolbar": "Create Assignment",
  "hide_input": false,
  "kernelspec": {
   "display_name": "Python 3",
   "language": "python",
   "name": "python3"
  },
  "language_info": {
   "codemirror_mode": {
    "name": "ipython",
    "version": 3
   },
   "file_extension": ".py",
   "mimetype": "text/x-python",
   "name": "python",
   "nbconvert_exporter": "python",
   "pygments_lexer": "ipython3",
   "version": "3.8.5"
  },
  "toc": {
   "base_numbering": 1,
   "nav_menu": {},
   "number_sections": true,
   "sideBar": true,
   "skip_h1_title": false,
   "title_cell": "Table of Contents",
   "title_sidebar": "Contents",
   "toc_cell": false,
   "toc_position": {},
   "toc_section_display": true,
   "toc_window_display": false
  },
  "varInspector": {
   "cols": {
    "lenName": 16,
    "lenType": 16,
    "lenVar": 40
   },
   "kernels_config": {
    "python": {
     "delete_cmd_postfix": "",
     "delete_cmd_prefix": "del ",
     "library": "var_list.py",
     "varRefreshCmd": "print(var_dic_list())"
    },
    "r": {
     "delete_cmd_postfix": ") ",
     "delete_cmd_prefix": "rm(",
     "library": "var_list.r",
     "varRefreshCmd": "cat(var_dic_list()) "
    }
   },
   "types_to_exclude": [
    "module",
    "function",
    "builtin_function_or_method",
    "instance",
    "_Feature"
   ],
   "window_display": false
  }
 },
 "nbformat": 4,
 "nbformat_minor": 5
}
