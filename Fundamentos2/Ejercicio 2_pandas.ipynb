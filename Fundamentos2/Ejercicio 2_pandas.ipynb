{
 "cells": [
  {
   "cell_type": "markdown",
   "id": "9d5dcc2b",
   "metadata": {
    "nbgrader": {
     "grade": false,
     "grade_id": "cell-a084b391b5386999",
     "locked": true,
     "schema_version": 3,
     "solution": false,
     "task": false
    }
   },
   "source": [
    "<a style=\"color: black; font-size: x-large ; font-weight: bold\">Desarrolle el ejercicio usando las operaciones de Pandas</a> "
   ]
  },
  {
   "cell_type": "code",
   "execution_count": 1,
   "id": "6a094fad",
   "metadata": {
    "nbgrader": {
     "grade": false,
     "grade_id": "cell-f118bc45f927c4fb",
     "locked": true,
     "schema_version": 3,
     "solution": false,
     "task": false
    }
   },
   "outputs": [],
   "source": [
    "import pandas as pd #Carga libreria Pandas\n",
    "from pandas.testing import assert_frame_equal #LIbrería para evaluar los dataframes"
   ]
  },
  {
   "cell_type": "markdown",
   "id": "395b07ff",
   "metadata": {
    "nbgrader": {
     "grade": false,
     "grade_id": "cell-e0611c85e852a5bb",
     "locked": true,
     "schema_version": 3,
     "solution": false,
     "task": false
    }
   },
   "source": [
    "## Cargue el archivo y guardelo en la variable datos\n",
    "\n",
    "> -url: https://raw.githubusercontent.com/cgiohidalgo/JupyterHub-nbgrader/main/dataT.csv "
   ]
  },
  {
   "cell_type": "code",
   "execution_count": 2,
   "id": "737a8354",
   "metadata": {
    "code_folding": [],
    "hide_input": false,
    "nbgrader": {
     "grade": false,
     "grade_id": "cell-223273bd947f4346",
     "locked": false,
     "schema_version": 3,
     "solution": true,
     "task": false
    }
   },
   "outputs": [],
   "source": [
    "### BEGIN SOLUTION\n",
    "datos = pd.read_csv(\"https://raw.githubusercontent.com/cgiohidalgo/JupyterHub-nbgrader/main/dataT.csv\")\n",
    "### END SOLUTION"
   ]
  },
  {
   "cell_type": "code",
   "execution_count": 3,
   "id": "52385921",
   "metadata": {},
   "outputs": [
    {
     "data": {
      "text/html": [
       "<div>\n",
       "<style scoped>\n",
       "    .dataframe tbody tr th:only-of-type {\n",
       "        vertical-align: middle;\n",
       "    }\n",
       "\n",
       "    .dataframe tbody tr th {\n",
       "        vertical-align: top;\n",
       "    }\n",
       "\n",
       "    .dataframe thead th {\n",
       "        text-align: right;\n",
       "    }\n",
       "</style>\n",
       "<table border=\"1\" class=\"dataframe\">\n",
       "  <thead>\n",
       "    <tr style=\"text-align: right;\">\n",
       "      <th></th>\n",
       "      <th>Comida</th>\n",
       "      <th>Color</th>\n",
       "    </tr>\n",
       "  </thead>\n",
       "  <tbody>\n",
       "    <tr>\n",
       "      <th>0</th>\n",
       "      <td>Lechuga</td>\n",
       "      <td>Verde</td>\n",
       "    </tr>\n",
       "    <tr>\n",
       "      <th>1</th>\n",
       "      <td>Tomate</td>\n",
       "      <td>Rojo</td>\n",
       "    </tr>\n",
       "    <tr>\n",
       "      <th>2</th>\n",
       "      <td>Piña</td>\n",
       "      <td>Amarrillo</td>\n",
       "    </tr>\n",
       "    <tr>\n",
       "      <th>3</th>\n",
       "      <td>Naranja</td>\n",
       "      <td>Naranja</td>\n",
       "    </tr>\n",
       "  </tbody>\n",
       "</table>\n",
       "</div>"
      ],
      "text/plain": [
       "    Comida      Color\n",
       "0  Lechuga      Verde\n",
       "1   Tomate       Rojo\n",
       "2     Piña  Amarrillo\n",
       "3  Naranja    Naranja"
      ]
     },
     "execution_count": 3,
     "metadata": {},
     "output_type": "execute_result"
    }
   ],
   "source": [
    "datos"
   ]
  },
  {
   "cell_type": "code",
   "execution_count": 4,
   "id": "65a947d2",
   "metadata": {
    "nbgrader": {
     "grade": true,
     "grade_id": "cell-327564e721f6a023",
     "locked": true,
     "points": 1.6666666667,
     "schema_version": 3,
     "solution": false,
     "task": false
    }
   },
   "outputs": [],
   "source": [
    "pd.testing.assert_frame_equal(datos, datos)"
   ]
  },
  {
   "cell_type": "markdown",
   "id": "501f0258",
   "metadata": {
    "nbgrader": {
     "grade": false,
     "grade_id": "cell-76f3cb94fda34f5d",
     "locked": true,
     "schema_version": 3,
     "solution": false,
     "task": false
    }
   },
   "source": [
    "## Agregar una columna \n",
    "\n",
    ">- nombre columa \"Precio\"\n",
    ">- valores [1.964, 2.400, 5.044, 7.48]"
   ]
  },
  {
   "cell_type": "code",
   "execution_count": 5,
   "id": "bf23f80f",
   "metadata": {
    "nbgrader": {
     "grade": false,
     "grade_id": "cell-2ed1fb3fe2d6db53",
     "locked": false,
     "schema_version": 3,
     "solution": true,
     "task": false
    },
    "scrolled": false
   },
   "outputs": [],
   "source": [
    "### BEGIN SOLUTION\n",
    "datos[\"Precio\"] = [1.964, 2.400, 5.044, 7.48]\n",
    "### END SOLUTION"
   ]
  },
  {
   "cell_type": "code",
   "execution_count": 6,
   "id": "c7b1f8fc",
   "metadata": {
    "nbgrader": {
     "grade": false,
     "grade_id": "cell-c692936d57d28c80",
     "locked": true,
     "schema_version": 3,
     "solution": false,
     "task": false
    }
   },
   "outputs": [
    {
     "data": {
      "text/html": [
       "<div>\n",
       "<style scoped>\n",
       "    .dataframe tbody tr th:only-of-type {\n",
       "        vertical-align: middle;\n",
       "    }\n",
       "\n",
       "    .dataframe tbody tr th {\n",
       "        vertical-align: top;\n",
       "    }\n",
       "\n",
       "    .dataframe thead th {\n",
       "        text-align: right;\n",
       "    }\n",
       "</style>\n",
       "<table border=\"1\" class=\"dataframe\">\n",
       "  <thead>\n",
       "    <tr style=\"text-align: right;\">\n",
       "      <th></th>\n",
       "      <th>Comida</th>\n",
       "      <th>Color</th>\n",
       "      <th>Precio</th>\n",
       "    </tr>\n",
       "  </thead>\n",
       "  <tbody>\n",
       "    <tr>\n",
       "      <th>0</th>\n",
       "      <td>Lechuga</td>\n",
       "      <td>Verde</td>\n",
       "      <td>1.964</td>\n",
       "    </tr>\n",
       "    <tr>\n",
       "      <th>1</th>\n",
       "      <td>Tomate</td>\n",
       "      <td>Rojo</td>\n",
       "      <td>2.400</td>\n",
       "    </tr>\n",
       "    <tr>\n",
       "      <th>2</th>\n",
       "      <td>Piña</td>\n",
       "      <td>Amarrillo</td>\n",
       "      <td>5.044</td>\n",
       "    </tr>\n",
       "    <tr>\n",
       "      <th>3</th>\n",
       "      <td>Naranja</td>\n",
       "      <td>Naranja</td>\n",
       "      <td>7.480</td>\n",
       "    </tr>\n",
       "  </tbody>\n",
       "</table>\n",
       "</div>"
      ],
      "text/plain": [
       "    Comida      Color  Precio\n",
       "0  Lechuga      Verde   1.964\n",
       "1   Tomate       Rojo   2.400\n",
       "2     Piña  Amarrillo   5.044\n",
       "3  Naranja    Naranja   7.480"
      ]
     },
     "execution_count": 6,
     "metadata": {},
     "output_type": "execute_result"
    }
   ],
   "source": [
    "datos"
   ]
  },
  {
   "cell_type": "code",
   "execution_count": 7,
   "id": "273a1b5a",
   "metadata": {
    "nbgrader": {
     "grade": true,
     "grade_id": "cell-a5972ffa21ed9e5d",
     "locked": true,
     "points": 1.6666666667,
     "schema_version": 3,
     "solution": false,
     "task": false
    }
   },
   "outputs": [],
   "source": [
    "assert_frame_equal(datos, datos)"
   ]
  },
  {
   "cell_type": "markdown",
   "id": "b10d54fc",
   "metadata": {
    "nbgrader": {
     "grade": false,
     "grade_id": "cell-2bdbc3b005f5ba36",
     "locked": true,
     "schema_version": 3,
     "solution": false,
     "task": false
    }
   },
   "source": [
    "##  Modificar el valor de columna con condición\n",
    "\n",
    ">- Dependiendo de si un producto de la columna 'Precio' es mayor de 2.450 lo clasifique en la 'Categoria' con la palabra 'Costoso'   \n",
    ">- No puede usar condicionales ni bucles (if-else, while, for) \n"
   ]
  },
  {
   "cell_type": "code",
   "execution_count": 11,
   "id": "1727aa99",
   "metadata": {
    "nbgrader": {
     "grade": false,
     "grade_id": "cell-4c18fd7d4f7dca95",
     "locked": false,
     "schema_version": 3,
     "solution": true,
     "task": false
    }
   },
   "outputs": [],
   "source": [
    "### BEGIN SOLUTION\n",
    "datos.loc[ datos['Precio'] > 2.450 ,\"Categoria\"] = 'Costoso'\n",
    "### END SOLUTION"
   ]
  },
  {
   "cell_type": "code",
   "execution_count": 12,
   "id": "21d50e1f",
   "metadata": {
    "nbgrader": {
     "grade": false,
     "grade_id": "cell-d30ea8fc954c1952",
     "locked": true,
     "schema_version": 3,
     "solution": false,
     "task": false
    }
   },
   "outputs": [
    {
     "data": {
      "text/html": [
       "<div>\n",
       "<style scoped>\n",
       "    .dataframe tbody tr th:only-of-type {\n",
       "        vertical-align: middle;\n",
       "    }\n",
       "\n",
       "    .dataframe tbody tr th {\n",
       "        vertical-align: top;\n",
       "    }\n",
       "\n",
       "    .dataframe thead th {\n",
       "        text-align: right;\n",
       "    }\n",
       "</style>\n",
       "<table border=\"1\" class=\"dataframe\">\n",
       "  <thead>\n",
       "    <tr style=\"text-align: right;\">\n",
       "      <th></th>\n",
       "      <th>Comida</th>\n",
       "      <th>Color</th>\n",
       "      <th>Precio</th>\n",
       "      <th>Categoria</th>\n",
       "    </tr>\n",
       "  </thead>\n",
       "  <tbody>\n",
       "    <tr>\n",
       "      <th>0</th>\n",
       "      <td>Lechuga</td>\n",
       "      <td>Verde</td>\n",
       "      <td>1.964</td>\n",
       "      <td>NaN</td>\n",
       "    </tr>\n",
       "    <tr>\n",
       "      <th>1</th>\n",
       "      <td>Tomate</td>\n",
       "      <td>Rojo</td>\n",
       "      <td>2.400</td>\n",
       "      <td>NaN</td>\n",
       "    </tr>\n",
       "    <tr>\n",
       "      <th>2</th>\n",
       "      <td>Piña</td>\n",
       "      <td>Amarrillo</td>\n",
       "      <td>5.044</td>\n",
       "      <td>Costoso</td>\n",
       "    </tr>\n",
       "    <tr>\n",
       "      <th>3</th>\n",
       "      <td>Naranja</td>\n",
       "      <td>Naranja</td>\n",
       "      <td>7.480</td>\n",
       "      <td>Costoso</td>\n",
       "    </tr>\n",
       "  </tbody>\n",
       "</table>\n",
       "</div>"
      ],
      "text/plain": [
       "    Comida      Color  Precio Categoria\n",
       "0  Lechuga      Verde   1.964       NaN\n",
       "1   Tomate       Rojo   2.400       NaN\n",
       "2     Piña  Amarrillo   5.044   Costoso\n",
       "3  Naranja    Naranja   7.480   Costoso"
      ]
     },
     "execution_count": 12,
     "metadata": {},
     "output_type": "execute_result"
    }
   ],
   "source": [
    "datos"
   ]
  },
  {
   "cell_type": "code",
   "execution_count": null,
   "id": "9739545d",
   "metadata": {
    "nbgrader": {
     "grade": true,
     "grade_id": "cell-223095947f9e4dde",
     "locked": true,
     "points": 1.6666666667,
     "schema_version": 3,
     "solution": false,
     "task": false
    }
   },
   "outputs": [],
   "source": [
    "assert_frame_equal(datos, datos)"
   ]
  }
 ],
 "metadata": {
  "celltoolbar": "Create Assignment",
  "hide_input": false,
  "kernelspec": {
   "display_name": "Python 3",
   "language": "python",
   "name": "python3"
  },
  "language_info": {
   "codemirror_mode": {
    "name": "ipython",
    "version": 3
   },
   "file_extension": ".py",
   "mimetype": "text/x-python",
   "name": "python",
   "nbconvert_exporter": "python",
   "pygments_lexer": "ipython3",
   "version": "3.8.5"
  },
  "toc": {
   "base_numbering": 1,
   "nav_menu": {},
   "number_sections": true,
   "sideBar": true,
   "skip_h1_title": false,
   "title_cell": "Table of Contents",
   "title_sidebar": "Contents",
   "toc_cell": false,
   "toc_position": {},
   "toc_section_display": true,
   "toc_window_display": false
  },
  "varInspector": {
   "cols": {
    "lenName": 16,
    "lenType": 16,
    "lenVar": 40
   },
   "kernels_config": {
    "python": {
     "delete_cmd_postfix": "",
     "delete_cmd_prefix": "del ",
     "library": "var_list.py",
     "varRefreshCmd": "print(var_dic_list())"
    },
    "r": {
     "delete_cmd_postfix": ") ",
     "delete_cmd_prefix": "rm(",
     "library": "var_list.r",
     "varRefreshCmd": "cat(var_dic_list()) "
    }
   },
   "types_to_exclude": [
    "module",
    "function",
    "builtin_function_or_method",
    "instance",
    "_Feature"
   ],
   "window_display": false
  }
 },
 "nbformat": 4,
 "nbformat_minor": 5
}
