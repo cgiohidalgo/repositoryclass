{
 "cells": [
  {
   "cell_type": "markdown",
   "id": "4a147559",
   "metadata": {},
   "source": [
    "<img src=\"https://raw.githubusercontent.com/cgiohidalgo/JupyterHub-nbgrader/main/70_Rojo.jpg\" alt=\"udenar\" width=\"140\"/>\n",
    "<div style=\"text-align: center\"> DIPLOMADO EN INTELIGENCIA DE NEGOCIOS</div>\n",
    "\n",
    "</div>\n"
   ]
  },
  {
   "cell_type": "code",
   "execution_count": 1,
   "id": "fixed-reducing",
   "metadata": {},
   "outputs": [],
   "source": [
    "# Tratamiento de datos\n",
    "# ==============================================================================\n",
    "import pandas as pd \n",
    "import numpy as np \n",
    "\n",
    "# Gráficos\n",
    "# ==============================================================================\n",
    "import matplotlib.pyplot as plt\n",
    "from matplotlib import style\n",
    "import seaborn as sns\n",
    "\n",
    "# Preprocesado y modelado\n",
    "# ==============================================================================\n",
    "from scipy.stats import pearsonr\n",
    "from sklearn.linear_model import LinearRegression\n",
    "from sklearn.linear_model import LogisticRegression\n",
    "from sklearn.model_selection import train_test_split \n",
    "from sklearn.metrics import r2_score\n",
    "from sklearn.metrics import mean_squared_error\n",
    "import statsmodels.api as sm\n",
    "import statsmodels.formula.api as smf\n",
    "\n",
    "# Configuración matplotlib\n",
    "# ==============================================================================\n",
    "#plt.rcParams['image.cmap'] = \"bwr\"\n",
    "#plt.rcParams['figure.dpi'] = \"100\"\n",
    "#plt.rcParams['savefig.bbox'] = \"tight\"\n",
    "style.use('ggplot') or plt.style.use('ggplot')\n",
    "\n",
    "# Configuración warnings\n",
    "# ==============================================================================\n",
    "#import warnings\n",
    "#warnings.filterwarnings('ignore')"
   ]
  },
  {
   "cell_type": "code",
   "execution_count": 2,
   "id": "smooth-welsh",
   "metadata": {},
   "outputs": [],
   "source": [
    "datos = pd.read_csv(\"familycar.csv\")  "
   ]
  },
  {
   "cell_type": "code",
   "execution_count": 6,
   "id": "outer-particular",
   "metadata": {
    "scrolled": true
   },
   "outputs": [
    {
     "data": {
      "text/html": [
       "<div>\n",
       "<style scoped>\n",
       "    .dataframe tbody tr th:only-of-type {\n",
       "        vertical-align: middle;\n",
       "    }\n",
       "\n",
       "    .dataframe tbody tr th {\n",
       "        vertical-align: top;\n",
       "    }\n",
       "\n",
       "    .dataframe thead th {\n",
       "        text-align: right;\n",
       "    }\n",
       "</style>\n",
       "<table border=\"1\" class=\"dataframe\">\n",
       "  <thead>\n",
       "    <tr style=\"text-align: right;\">\n",
       "      <th></th>\n",
       "      <th>Nombre</th>\n",
       "      <th>CaballosFuerza</th>\n",
       "      <th>Precio</th>\n",
       "      <th>Familiar</th>\n",
       "    </tr>\n",
       "  </thead>\n",
       "  <tbody>\n",
       "    <tr>\n",
       "      <th>0</th>\n",
       "      <td>Honda Civic</td>\n",
       "      <td>52</td>\n",
       "      <td>11500</td>\n",
       "      <td>1</td>\n",
       "    </tr>\n",
       "    <tr>\n",
       "      <th>1</th>\n",
       "      <td>Merc 240D</td>\n",
       "      <td>62</td>\n",
       "      <td>11900</td>\n",
       "      <td>1</td>\n",
       "    </tr>\n",
       "    <tr>\n",
       "      <th>2</th>\n",
       "      <td>Ford Festiva 4</td>\n",
       "      <td>63</td>\n",
       "      <td>6319</td>\n",
       "      <td>1</td>\n",
       "    </tr>\n",
       "    <tr>\n",
       "      <th>3</th>\n",
       "      <td>Toyota Corolla</td>\n",
       "      <td>65</td>\n",
       "      <td>17872</td>\n",
       "      <td>1</td>\n",
       "    </tr>\n",
       "    <tr>\n",
       "      <th>4</th>\n",
       "      <td>Fiat 128</td>\n",
       "      <td>66</td>\n",
       "      <td>3470</td>\n",
       "      <td>1</td>\n",
       "    </tr>\n",
       "    <tr>\n",
       "      <th>...</th>\n",
       "      <td>...</td>\n",
       "      <td>...</td>\n",
       "      <td>...</td>\n",
       "      <td>...</td>\n",
       "    </tr>\n",
       "    <tr>\n",
       "      <th>84</th>\n",
       "      <td>Lincoln Continental</td>\n",
       "      <td>215</td>\n",
       "      <td>58900</td>\n",
       "      <td>0</td>\n",
       "    </tr>\n",
       "    <tr>\n",
       "      <th>85</th>\n",
       "      <td>Ford Mustang V8</td>\n",
       "      <td>225</td>\n",
       "      <td>12164</td>\n",
       "      <td>0</td>\n",
       "    </tr>\n",
       "    <tr>\n",
       "      <th>86</th>\n",
       "      <td>Chrysler Imperial</td>\n",
       "      <td>230</td>\n",
       "      <td>9750</td>\n",
       "      <td>0</td>\n",
       "    </tr>\n",
       "    <tr>\n",
       "      <th>87</th>\n",
       "      <td>Duster 360</td>\n",
       "      <td>245</td>\n",
       "      <td>34500</td>\n",
       "      <td>0</td>\n",
       "    </tr>\n",
       "    <tr>\n",
       "      <th>88</th>\n",
       "      <td>Camaro Z28</td>\n",
       "      <td>245</td>\n",
       "      <td>14500</td>\n",
       "      <td>0</td>\n",
       "    </tr>\n",
       "  </tbody>\n",
       "</table>\n",
       "<p>89 rows × 4 columns</p>\n",
       "</div>"
      ],
      "text/plain": [
       "                 Nombre  CaballosFuerza  Precio  Familiar\n",
       "0           Honda Civic              52   11500         1\n",
       "1             Merc 240D              62   11900         1\n",
       "2        Ford Festiva 4              63    6319         1\n",
       "3        Toyota Corolla              65   17872         1\n",
       "4              Fiat 128              66    3470         1\n",
       "..                  ...             ...     ...       ...\n",
       "84  Lincoln Continental             215   58900         0\n",
       "85      Ford Mustang V8             225   12164         0\n",
       "86    Chrysler Imperial             230    9750         0\n",
       "87           Duster 360             245   34500         0\n",
       "88           Camaro Z28             245   14500         0\n",
       "\n",
       "[89 rows x 4 columns]"
      ]
     },
     "execution_count": 6,
     "metadata": {},
     "output_type": "execute_result"
    }
   ],
   "source": [
    "datos"
   ]
  },
  {
   "cell_type": "markdown",
   "id": "4bade660",
   "metadata": {},
   "source": [
    "# Explorar datos\n",
    "\n",
    "Revise los atributos, la categoría, datos nulos, etc (hagalo de forma libre)"
   ]
  },
  {
   "cell_type": "code",
   "execution_count": 7,
   "id": "c9444430",
   "metadata": {},
   "outputs": [
    {
     "data": {
      "text/plain": [
       "Index(['Nombre', 'CaballosFuerza', 'Precio', 'Familiar'], dtype='object')"
      ]
     },
     "execution_count": 7,
     "metadata": {},
     "output_type": "execute_result"
    }
   ],
   "source": [
    "datos.columns\n"
   ]
  },
  {
   "cell_type": "code",
   "execution_count": 8,
   "id": "495885c4",
   "metadata": {
    "scrolled": true
   },
   "outputs": [
    {
     "data": {
      "text/html": [
       "<div>\n",
       "<style scoped>\n",
       "    .dataframe tbody tr th:only-of-type {\n",
       "        vertical-align: middle;\n",
       "    }\n",
       "\n",
       "    .dataframe tbody tr th {\n",
       "        vertical-align: top;\n",
       "    }\n",
       "\n",
       "    .dataframe thead th {\n",
       "        text-align: right;\n",
       "    }\n",
       "</style>\n",
       "<table border=\"1\" class=\"dataframe\">\n",
       "  <thead>\n",
       "    <tr style=\"text-align: right;\">\n",
       "      <th></th>\n",
       "      <th>CaballosFuerza</th>\n",
       "      <th>Precio</th>\n",
       "      <th>Familiar</th>\n",
       "    </tr>\n",
       "  </thead>\n",
       "  <tbody>\n",
       "    <tr>\n",
       "      <th>count</th>\n",
       "      <td>89.000000</td>\n",
       "      <td>89.000000</td>\n",
       "      <td>89.000000</td>\n",
       "    </tr>\n",
       "    <tr>\n",
       "      <th>mean</th>\n",
       "      <td>127.426966</td>\n",
       "      <td>15185.303371</td>\n",
       "      <td>0.382022</td>\n",
       "    </tr>\n",
       "    <tr>\n",
       "      <th>std</th>\n",
       "      <td>41.694475</td>\n",
       "      <td>12743.969663</td>\n",
       "      <td>0.488635</td>\n",
       "    </tr>\n",
       "    <tr>\n",
       "      <th>min</th>\n",
       "      <td>52.000000</td>\n",
       "      <td>2500.000000</td>\n",
       "      <td>0.000000</td>\n",
       "    </tr>\n",
       "    <tr>\n",
       "      <th>25%</th>\n",
       "      <td>100.000000</td>\n",
       "      <td>9745.000000</td>\n",
       "      <td>0.000000</td>\n",
       "    </tr>\n",
       "    <tr>\n",
       "      <th>50%</th>\n",
       "      <td>113.000000</td>\n",
       "      <td>12495.000000</td>\n",
       "      <td>0.000000</td>\n",
       "    </tr>\n",
       "    <tr>\n",
       "      <th>75%</th>\n",
       "      <td>150.000000</td>\n",
       "      <td>15930.000000</td>\n",
       "      <td>1.000000</td>\n",
       "    </tr>\n",
       "    <tr>\n",
       "      <th>max</th>\n",
       "      <td>245.000000</td>\n",
       "      <td>96500.000000</td>\n",
       "      <td>1.000000</td>\n",
       "    </tr>\n",
       "  </tbody>\n",
       "</table>\n",
       "</div>"
      ],
      "text/plain": [
       "       CaballosFuerza        Precio   Familiar\n",
       "count       89.000000     89.000000  89.000000\n",
       "mean       127.426966  15185.303371   0.382022\n",
       "std         41.694475  12743.969663   0.488635\n",
       "min         52.000000   2500.000000   0.000000\n",
       "25%        100.000000   9745.000000   0.000000\n",
       "50%        113.000000  12495.000000   0.000000\n",
       "75%        150.000000  15930.000000   1.000000\n",
       "max        245.000000  96500.000000   1.000000"
      ]
     },
     "execution_count": 8,
     "metadata": {},
     "output_type": "execute_result"
    }
   ],
   "source": [
    "datos.describe()"
   ]
  },
  {
   "cell_type": "code",
   "execution_count": 9,
   "id": "5a10c1ab",
   "metadata": {
    "scrolled": true
   },
   "outputs": [
    {
     "data": {
      "text/plain": [
       "array([1, 0])"
      ]
     },
     "execution_count": 9,
     "metadata": {},
     "output_type": "execute_result"
    }
   ],
   "source": [
    "datos['Familiar'].unique()"
   ]
  },
  {
   "cell_type": "code",
   "execution_count": 10,
   "id": "b76d43a1",
   "metadata": {
    "scrolled": false
   },
   "outputs": [
    {
     "data": {
      "text/plain": [
       "Nombre            0\n",
       "CaballosFuerza    0\n",
       "Precio            0\n",
       "Familiar          0\n",
       "dtype: int64"
      ]
     },
     "execution_count": 10,
     "metadata": {},
     "output_type": "execute_result"
    }
   ],
   "source": [
    "#comprobar si hay vslores nulos\n",
    "datos.isnull().sum()"
   ]
  },
  {
   "cell_type": "markdown",
   "id": "c22b566a",
   "metadata": {},
   "source": [
    "# Transformar Datos"
   ]
  },
  {
   "cell_type": "code",
   "execution_count": null,
   "id": "5826e5bc",
   "metadata": {},
   "outputs": [],
   "source": [
    "#eliminar columnas\n",
    "#datos1 = datos.drop(['Cabina','ID','Nombre','Tiquete','Embarque'], axis=1,inplace=True)"
   ]
  },
  {
   "cell_type": "code",
   "execution_count": null,
   "id": "5a1e4656",
   "metadata": {},
   "outputs": [],
   "source": [
    "#eliminar valos nulos\n",
    "datos.dropna(inplace=True)"
   ]
  },
  {
   "cell_type": "code",
   "execution_count": null,
   "id": "e9223465",
   "metadata": {},
   "outputs": [],
   "source": [
    "#operar spbre\n",
    "#datosx = datos[(datos['Edad'] > 78) & (datos['Edad'] <= 80)]"
   ]
  },
  {
   "cell_type": "markdown",
   "id": "842a8729",
   "metadata": {},
   "source": [
    "# Visualizar datos"
   ]
  },
  {
   "cell_type": "code",
   "execution_count": 11,
   "id": "21622bba",
   "metadata": {},
   "outputs": [
    {
     "data": {
      "image/png": "[encoded data removed]",
      "text/plain": [
       "<Figure size 432x288 with 1 Axes>"
      ]
     },
     "metadata": {},
     "output_type": "display_data"
    },
    {
     "data": {
      "text/plain": [
       "Familiar\n",
       "0    55\n",
       "1    34\n",
       "dtype: int64"
      ]
     },
     "execution_count": 11,
     "metadata": {},
     "output_type": "execute_result"
    }
   ],
   "source": [
    "sns.countplot(x='Familiar',data=datos)\n",
    "plt.title('No Familiar vs Familiar')\n",
    "plt.show()\n",
    "datos.value_counts(datos['Familiar'], sort = True) #comparacion de clase 0=pierde 1=gana"
   ]
  },
  {
   "cell_type": "code",
   "execution_count": 12,
   "id": "faced-literature",
   "metadata": {},
   "outputs": [
    {
     "name": "stderr",
     "output_type": "stream",
     "text": [
      "/tmp/ipykernel_171/528348863.py:1: FutureWarning: In a future version of pandas all arguments of DataFrame.drop except for the argument 'labels' will be keyword-only\n",
      "  datos.drop(['Familiar'],1).hist(facecolor='blue', alpha=0.9, bins=10)\n"
     ]
    },
    {
     "data": {
      "image/png": "[encoded data removed]",
      "text/plain": [
       "<Figure size 432x288 with 2 Axes>"
      ]
     },
     "metadata": {},
     "output_type": "display_data"
    }
   ],
   "source": [
    "datos.drop(['Familiar'],1).hist(facecolor='blue', alpha=0.9, bins=10)\n",
    "#datos.hist(bins = 30, figsize=(10,10), color = 'b');\n",
    "plt.show()"
   ]
  },
  {
   "cell_type": "code",
   "execution_count": 13,
   "id": "collected-structure",
   "metadata": {},
   "outputs": [
    {
     "data": {
      "image/png": "[encoded data removed]",
      "text/plain": [
       "<Figure size 432x288 with 1 Axes>"
      ]
     },
     "metadata": {},
     "output_type": "display_data"
    }
   ],
   "source": [
    "datos.plot.scatter(x='Precio', y='Familiar',s=0);\n",
    "\n",
    "groups = datos.groupby(\"Familiar\")\n",
    "for name, group in groups:\n",
    "    plt.plot(group[\"Precio\"], group[\"Familiar\"], marker=\"o\", linestyle=\"\", label=name)\n",
    "    plt.legend()"
   ]
  },
  {
   "cell_type": "code",
   "execution_count": null,
   "id": "aggregate-noise",
   "metadata": {
    "scrolled": true
   },
   "outputs": [],
   "source": [
    "fig, ax = plt.subplots(figsize=(12, 5.1))\n",
    "\n",
    "datos.plot(\n",
    "    x    = 'CaballosFuerza',\n",
    "    y    = 'Precio',\n",
    "    c  = 'Familiar',\n",
    "    kind = \"scatter\",\n",
    "    ax   = ax,\n",
    "    cmap='bwr_r'\n",
    ")\n",
    "\n",
    "\n",
    "\n",
    "ax.set_title('Distribución de CaballosFuerza y Precio');"
   ]
  },
  {
   "cell_type": "code",
   "execution_count": 15,
   "id": "departmental-jaguar",
   "metadata": {},
   "outputs": [],
   "source": [
    "#filtrar datos\n",
    "datos1 = datos[(datos['Precio'] < 30000) & (datos['CaballosFuerza'] < 200)]"
   ]
  },
  {
   "cell_type": "code",
   "execution_count": 16,
   "id": "complimentary-mortgage",
   "metadata": {
    "scrolled": true
   },
   "outputs": [
    {
     "data": {
      "image/png": "[encoded data removed]",
      "text/plain": [
       "<Figure size 864x367.2 with 2 Axes>"
      ]
     },
     "metadata": {},
     "output_type": "display_data"
    }
   ],
   "source": [
    "fig, ax = plt.subplots(figsize=(12, 5.1))\n",
    "\n",
    "\n",
    "colores=['red','blue']\n",
    "asignar=[]\n",
    "\n",
    "for index, row in datos1.iterrows():\n",
    "    if(row['Familiar']==0):\n",
    "        asignar.append(colores[0])\n",
    "    else:\n",
    "        asignar.append(colores[1])\n",
    "\n",
    "        \n",
    "datos1.plot(x = 'CaballosFuerza', y = 'Precio', kind = \"scatter\", ax=ax, label='Familiar', c = 'Familiar', cmap='bwr_r') #copper\n",
    "\n",
    "\n",
    "ax.set_title('Distribución de CaballosFuerza y Precio');"
   ]
  },
  {
   "cell_type": "code",
   "execution_count": 17,
   "id": "0d4c630a",
   "metadata": {
    "scrolled": true
   },
   "outputs": [
    {
     "data": {
      "image/png": "[encoded data removed]",
      "text/plain": [
       "<Figure size 720x720 with 4 Axes>"
      ]
     },
     "metadata": {},
     "output_type": "display_data"
    }
   ],
   "source": [
    "datos1.hist(bins = 30, figsize=(10,10), color = 'b');"
   ]
  },
  {
   "cell_type": "code",
   "execution_count": null,
   "id": "liable-equity",
   "metadata": {
    "scrolled": true
   },
   "outputs": [],
   "source": [
    "#from scipy import stats\n",
    "\n",
    "corr_test = pearsonr(x = datos1['CaballosFuerza'], y =  datos1['Familiar'])\n",
    "print(\"Coeficiente de correlación de Pearson: \", corr_test[0])\n",
    "print(\"P-value: \", corr_test[1])\n"
   ]
  },
  {
   "cell_type": "markdown",
   "id": "f9f77afb",
   "metadata": {},
   "source": [
    "# features and class"
   ]
  },
  {
   "cell_type": "code",
   "execution_count": 18,
   "id": "a9f0a06a",
   "metadata": {},
   "outputs": [],
   "source": [
    "# Features  y clase \n",
    "features = ['CaballosFuerza']\n",
    "X = datos[features] # Features\n",
    "y = datos['Familiar']\n",
    "\n",
    "#X = datos[['Clase','Sexo','Edad','Tarifa']]\n",
    "#y = datos['Sobrevive']"
   ]
  },
  {
   "cell_type": "markdown",
   "id": "0d6f0504",
   "metadata": {},
   "source": [
    "# Dataset de entranamiento y testeo"
   ]
  },
  {
   "cell_type": "code",
   "execution_count": 19,
   "id": "65878e55",
   "metadata": {},
   "outputs": [],
   "source": [
    "#datos de entreno y testeo\n",
    "X_train, X_test, y_train, y_test = train_test_split(X, y, test_size=0.3, random_state=42)"
   ]
  },
  {
   "cell_type": "markdown",
   "id": "391956e4",
   "metadata": {},
   "source": [
    "# Selección de modelo"
   ]
  },
  {
   "cell_type": "code",
   "execution_count": 20,
   "id": "3a9350b8",
   "metadata": {},
   "outputs": [],
   "source": [
    "modelo = LinearRegression()"
   ]
  },
  {
   "cell_type": "markdown",
   "id": "12b99499",
   "metadata": {},
   "source": [
    "# entretar el modelo"
   ]
  },
  {
   "cell_type": "code",
   "execution_count": 21,
   "id": "1595f3c4",
   "metadata": {},
   "outputs": [],
   "source": [
    "\n",
    "modelo = modelo.fit(X_train,y_train)"
   ]
  },
  {
   "cell_type": "markdown",
   "id": "749146c8",
   "metadata": {},
   "source": [
    "# predecir para el dataset de testeo "
   ]
  },
  {
   "cell_type": "code",
   "execution_count": 30,
   "id": "a0c9c00f",
   "metadata": {},
   "outputs": [],
   "source": [
    "y_pred = modelo.predict(X_test)"
   ]
  },
  {
   "cell_type": "code",
   "execution_count": 34,
   "id": "flying-alabama",
   "metadata": {
    "scrolled": true
   },
   "outputs": [
    {
     "name": "stdout",
     "output_type": "stream",
     "text": [
      "Termino independiente: 1.1841668621901702\n",
      "Coeficiente: [('CaballosFuerza', -0.006521316926572598)]\n",
      "Coeficiente de determinación R^2: 0.3724579814770712\n"
     ]
    }
   ],
   "source": [
    "# Información del modelo\n",
    "# ==============================================================================\n",
    "# Este es el valor donde corta el eje Y (en X=0)\n",
    "print('Termino independiente:', modelo.intercept_)\n",
    "# Veamos los coeficienetes obtenidos, En nuestro caso, serán la Tangente\n",
    "print(\"Coeficiente:\", list(zip(X.columns, modelo.coef_.flatten(), )))\n",
    "# Error Cuadrado Medio\n",
    "print(\"Coeficiente de determinación R^2:\", modelo.score(X, y))\n"
   ]
  },
  {
   "cell_type": "code",
   "execution_count": 35,
   "id": "integrated-armstrong",
   "metadata": {
    "scrolled": true
   },
   "outputs": [
    {
     "name": "stdout",
     "output_type": "stream",
     "text": [
      "[ 0.44725805  0.28422513  0.47986463  0.59724834  0.38204488  0.84505838\n",
      "  0.20596932  0.55159912  0.59724834  0.53203517  0.75375995  0.466822\n",
      "  0.466822    0.01032982  0.01032982  0.466822    0.0429364   0.23857591\n",
      " -0.28312945  0.466822    0.49942858  0.40160883  0.47334332  0.59724834\n",
      "  0.20596932  0.48638595  0.20596932]\n"
     ]
    },
    {
     "data": {
      "text/plain": [
       "'\\nrmse = mean_squared_error(\\n        y_true  = y_test,\\n        y_pred  = predic,\\n        squared = False\\n       )\\nprint(\"\")\\nprint(f\"El error (rmse) de test es: {rmse}\")\\n'"
      ]
     },
     "execution_count": 35,
     "metadata": {},
     "output_type": "execute_result"
    }
   ],
   "source": [
    "# Error de test del modelo \n",
    "# ==============================================================================\n",
    "predic = modelo.predict(X_test)\n",
    "print(predic[0:40,])\n",
    "\n",
    "'''\n",
    "rmse = mean_squared_error(\n",
    "        y_true  = y_test,\n",
    "        y_pred  = predic,\n",
    "        squared = False\n",
    "       )\n",
    "print(\"\")\n",
    "print(f\"El error (rmse) de test es: {rmse}\")\n",
    "'''"
   ]
  },
  {
   "cell_type": "code",
   "execution_count": 48,
   "id": "sustainable-width",
   "metadata": {
    "scrolled": true
   },
   "outputs": [
    {
     "data": {
      "image/png": "[encoded data removed]",
      "text/plain": [
       "<Figure size 432x288 with 1 Axes>"
      ]
     },
     "metadata": {},
     "output_type": "display_data"
    }
   ],
   "source": [
    "#colores=['blue','red']\n",
    "\n",
    "plt.scatter(X_train, y_train, c=(y_train))\n",
    "#plt.scatter(X_train, y_train, c=np.squeeze(y_train))\n",
    "plt.plot(X_test, predic, color='orange', linewidth=3 )\n",
    "plt.title('Caballos de Fuerza vs Carro Familiar (entrenamiento)')\n",
    "plt.xlabel('CaballosFuerza', color='black')\n",
    "plt.ylabel('Familiar', color='black')\n",
    "#plt.axhline(.6, color='.5')\n",
    "\n",
    "#ax.plot(predic['x'], predic[\"mean_ci_upper\"], linestyle='--', color='red')\n",
    "#plt.xticks(())\n",
    "#plt.yticks(())\n",
    "\n",
    "#poner las dos clases en distintos colores \n",
    "plt.show()"
   ]
  },
  {
   "cell_type": "code",
   "execution_count": 49,
   "id": "corrected-chuck",
   "metadata": {
    "scrolled": true
   },
   "outputs": [
    {
     "data": {
      "image/png": "[encoded data removed]",
      "text/plain": [
       "<Figure size 432x288 with 1 Axes>"
      ]
     },
     "metadata": {},
     "output_type": "display_data"
    }
   ],
   "source": [
    "valh = 0.2\n",
    "valv = 157\n",
    "plt.scatter(X_test, y_test, c=(y_test) )\n",
    "plt.plot(X_test, predic, color='black', linewidth=3)\n",
    "plt.title('Caballos de Fuerza vs Carro Familiar (Clasificación)')\n",
    "plt.xlabel('CaballosFuerza')\n",
    "plt.ylabel('Familiar')\n",
    "plt.axhline(valh, color='orange')\n",
    "plt.axvline(valv, color='Purple')\n",
    "#plt.xticks(())\n",
    "#plt.yticks(())\n",
    "plt.show()"
   ]
  },
  {
   "cell_type": "markdown",
   "id": "d4fc752d",
   "metadata": {},
   "source": [
    "# Probar Modelo"
   ]
  },
  {
   "cell_type": "code",
   "execution_count": 1,
   "id": "14e84786",
   "metadata": {},
   "outputs": [
    {
     "ename": "NameError",
     "evalue": "name 'modelo' is not defined",
     "output_type": "error",
     "traceback": [
      "\u001b[0;31m---------------------------------------------------------------------------\u001b[0m",
      "\u001b[0;31mNameError\u001b[0m                                 Traceback (most recent call last)",
      "\u001b[0;32m/tmp/ipykernel_203/1229639524.py\u001b[0m in \u001b[0;36m<module>\u001b[0;34m\u001b[0m\n\u001b[0;32m----> 1\u001b[0;31m \u001b[0mmodelo\u001b[0m\u001b[0;34m.\u001b[0m\u001b[0mpredict\u001b[0m\u001b[0;34m(\u001b[0m\u001b[0;34m[\u001b[0m\u001b[0;34m[\u001b[0m\u001b[0;36m20\u001b[0m\u001b[0;34m]\u001b[0m\u001b[0;34m]\u001b[0m\u001b[0;34m)\u001b[0m\u001b[0;34m\u001b[0m\u001b[0;34m\u001b[0m\u001b[0m\n\u001b[0m\u001b[1;32m      2\u001b[0m \u001b[0;31m#['Fuerza']\u001b[0m\u001b[0;34m\u001b[0m\u001b[0;34m\u001b[0m\u001b[0;34m\u001b[0m\u001b[0m\n",
      "\u001b[0;31mNameError\u001b[0m: name 'modelo' is not defined"
     ]
    }
   ],
   "source": [
    "modelo.predict([[20]])\n",
    "#['Fuerza']"
   ]
  }
 ],
 "metadata": {
  "hide_input": false,
  "kernelspec": {
   "display_name": "Python 3 (ipykernel)",
   "language": "python",
   "name": "python3"
  },
  "language_info": {
   "codemirror_mode": {
    "name": "ipython",
    "version": 3
   },
   "file_extension": ".py",
   "mimetype": "text/x-python",
   "name": "python",
   "nbconvert_exporter": "python",
   "pygments_lexer": "ipython3",
   "version": "3.9.6"
  },
  "toc": {
   "base_numbering": 1,
   "nav_menu": {},
   "number_sections": true,
   "sideBar": true,
   "skip_h1_title": false,
   "title_cell": "Table of Contents",
   "title_sidebar": "Contents",
   "toc_cell": false,
   "toc_position": {},
   "toc_section_display": true,
   "toc_window_display": false
  },
  "varInspector": {
   "cols": {
    "lenName": 16,
    "lenType": 16,
    "lenVar": 40
   },
   "kernels_config": {
    "python": {
     "delete_cmd_postfix": "",
     "delete_cmd_prefix": "del ",
     "library": "var_list.py",
     "varRefreshCmd": "print(var_dic_list())"
    },
    "r": {
     "delete_cmd_postfix": ") ",
     "delete_cmd_prefix": "rm(",
     "library": "var_list.r",
     "varRefreshCmd": "cat(var_dic_list()) "
    }
   },
   "types_to_exclude": [
    "module",
    "function",
    "builtin_function_or_method",
    "instance",
    "_Feature"
   ],
   "window_display": false
  }
 },
 "nbformat": 4,
 "nbformat_minor": 5
}
