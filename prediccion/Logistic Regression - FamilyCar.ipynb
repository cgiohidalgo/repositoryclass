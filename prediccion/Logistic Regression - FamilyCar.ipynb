{
 "cells": [
  {
   "cell_type": "markdown",
   "id": "c6a75fc9",
   "metadata": {},
   "source": [
    "<img src=\"https://raw.githubusercontent.com/cgiohidalgo/JupyterHub-nbgrader/main/70_Rojo.jpg\" alt=\"udenar\" width=\"140\"/>\n",
    "<div style=\"text-align: center\"> DIPLOMADO EN INTELIGENCIA DE NEGOCIOS</div>\n",
    "\n",
    "</div>\n"
   ]
  },
  {
   "cell_type": "code",
   "execution_count": 8,
   "id": "fixed-reducing",
   "metadata": {
    "id": "fixed-reducing",
    "scrolled": true
   },
   "outputs": [],
   "source": [
    "# Tratamiento de datos\n",
    "# ==============================================================================\n",
    "import pandas as pd\n",
    "import numpy as np\n",
    "import math\n",
    "\n",
    "# Gráficos\n",
    "# ==============================================================================\n",
    "import matplotlib.pyplot as plt\n",
    "from matplotlib import style\n",
    "import seaborn as sns\n",
    "\n",
    "# Preprocesado y modelado\n",
    "# ==============================================================================\n",
    "import scipy.stats \n",
    "from sklearn.linear_model import LinearRegression\n",
    "from sklearn.linear_model import LogisticRegression\n",
    "from sklearn.linear_model import LinearRegression\n",
    "from sklearn import datasets, linear_model\n",
    "from sklearn.model_selection import train_test_split\n",
    "from sklearn.metrics import r2_score\n",
    "from sklearn.metrics import mean_squared_error\n",
    "\n"
   ]
  },
  {
   "cell_type": "code",
   "execution_count": 9,
   "id": "smooth-welsh",
   "metadata": {
    "id": "smooth-welsh"
   },
   "outputs": [],
   "source": [
    "datos = pd.read_csv(\"familycar.csv\")"
   ]
  },
  {
   "cell_type": "code",
   "execution_count": 10,
   "id": "outer-particular",
   "metadata": {
    "colab": {
     "base_uri": "https://localhost:8080/",
     "height": 419
    },
    "id": "outer-particular",
    "outputId": "2e34b816-ce09-46cf-8994-a3b4c709aefb"
   },
   "outputs": [
    {
     "data": {
      "text/html": [
       "<div>\n",
       "<style scoped>\n",
       "    .dataframe tbody tr th:only-of-type {\n",
       "        vertical-align: middle;\n",
       "    }\n",
       "\n",
       "    .dataframe tbody tr th {\n",
       "        vertical-align: top;\n",
       "    }\n",
       "\n",
       "    .dataframe thead th {\n",
       "        text-align: right;\n",
       "    }\n",
       "</style>\n",
       "<table border=\"1\" class=\"dataframe\">\n",
       "  <thead>\n",
       "    <tr style=\"text-align: right;\">\n",
       "      <th></th>\n",
       "      <th>Nombre</th>\n",
       "      <th>CaballosFuerza</th>\n",
       "      <th>Precio</th>\n",
       "      <th>Familiar</th>\n",
       "    </tr>\n",
       "  </thead>\n",
       "  <tbody>\n",
       "    <tr>\n",
       "      <th>0</th>\n",
       "      <td>Honda Civic</td>\n",
       "      <td>52</td>\n",
       "      <td>11500</td>\n",
       "      <td>1</td>\n",
       "    </tr>\n",
       "    <tr>\n",
       "      <th>1</th>\n",
       "      <td>Merc 240D</td>\n",
       "      <td>62</td>\n",
       "      <td>11900</td>\n",
       "      <td>1</td>\n",
       "    </tr>\n",
       "    <tr>\n",
       "      <th>2</th>\n",
       "      <td>Ford Festiva 4</td>\n",
       "      <td>63</td>\n",
       "      <td>6319</td>\n",
       "      <td>1</td>\n",
       "    </tr>\n",
       "    <tr>\n",
       "      <th>3</th>\n",
       "      <td>Toyota Corolla</td>\n",
       "      <td>65</td>\n",
       "      <td>17872</td>\n",
       "      <td>1</td>\n",
       "    </tr>\n",
       "    <tr>\n",
       "      <th>4</th>\n",
       "      <td>Fiat 128</td>\n",
       "      <td>66</td>\n",
       "      <td>3470</td>\n",
       "      <td>1</td>\n",
       "    </tr>\n",
       "    <tr>\n",
       "      <th>...</th>\n",
       "      <td>...</td>\n",
       "      <td>...</td>\n",
       "      <td>...</td>\n",
       "      <td>...</td>\n",
       "    </tr>\n",
       "    <tr>\n",
       "      <th>84</th>\n",
       "      <td>Lincoln Continental</td>\n",
       "      <td>215</td>\n",
       "      <td>58900</td>\n",
       "      <td>0</td>\n",
       "    </tr>\n",
       "    <tr>\n",
       "      <th>85</th>\n",
       "      <td>Ford Mustang V8</td>\n",
       "      <td>225</td>\n",
       "      <td>12164</td>\n",
       "      <td>0</td>\n",
       "    </tr>\n",
       "    <tr>\n",
       "      <th>86</th>\n",
       "      <td>Chrysler Imperial</td>\n",
       "      <td>230</td>\n",
       "      <td>9750</td>\n",
       "      <td>0</td>\n",
       "    </tr>\n",
       "    <tr>\n",
       "      <th>87</th>\n",
       "      <td>Duster 360</td>\n",
       "      <td>245</td>\n",
       "      <td>34500</td>\n",
       "      <td>0</td>\n",
       "    </tr>\n",
       "    <tr>\n",
       "      <th>88</th>\n",
       "      <td>Camaro Z28</td>\n",
       "      <td>245</td>\n",
       "      <td>14500</td>\n",
       "      <td>0</td>\n",
       "    </tr>\n",
       "  </tbody>\n",
       "</table>\n",
       "<p>89 rows × 4 columns</p>\n",
       "</div>"
      ],
      "text/plain": [
       "                 Nombre  CaballosFuerza  Precio  Familiar\n",
       "0           Honda Civic              52   11500         1\n",
       "1             Merc 240D              62   11900         1\n",
       "2        Ford Festiva 4              63    6319         1\n",
       "3        Toyota Corolla              65   17872         1\n",
       "4              Fiat 128              66    3470         1\n",
       "..                  ...             ...     ...       ...\n",
       "84  Lincoln Continental             215   58900         0\n",
       "85      Ford Mustang V8             225   12164         0\n",
       "86    Chrysler Imperial             230    9750         0\n",
       "87           Duster 360             245   34500         0\n",
       "88           Camaro Z28             245   14500         0\n",
       "\n",
       "[89 rows x 4 columns]"
      ]
     },
     "execution_count": 10,
     "metadata": {},
     "output_type": "execute_result"
    }
   ],
   "source": [
    "datos"
   ]
  },
  {
   "cell_type": "code",
   "execution_count": 11,
   "id": "faced-literature",
   "metadata": {
    "colab": {
     "base_uri": "https://localhost:8080/",
     "height": 1000
    },
    "id": "faced-literature",
    "outputId": "a0a4f538-8597-4882-cf4b-a0173a17de2c",
    "scrolled": true
   },
   "outputs": [
    {
     "name": "stdout",
     "output_type": "stream",
     "text": [
      "Precio\n",
      "2500     1\n",
      "3470     3\n",
      "4059     1\n",
      "4697     1\n",
      "5866     1\n",
      "        ..\n",
      "34500    1\n",
      "49000    1\n",
      "54900    1\n",
      "58900    1\n",
      "96500    1\n",
      "Length: 84, dtype: int64\n"
     ]
    }
   ],
   "source": [
    "print(datos.groupby('Precio').size())\n",
    "\n"
   ]
  },
  {
   "cell_type": "code",
   "execution_count": 12,
   "id": "c8a6f636",
   "metadata": {},
   "outputs": [
    {
     "name": "stderr",
     "output_type": "stream",
     "text": [
      "/tmp/ipykernel_303/501791091.py:1: FutureWarning: In a future version of pandas all arguments of DataFrame.drop except for the argument 'labels' will be keyword-only\n",
      "  datos.drop(['Precio'],1).hist(facecolor='blue', alpha=0.9, bins=10)\n"
     ]
    },
    {
     "data": {
      "image/png": "[encoded data removed]",
      "text/plain": [
       "<Figure size 432x288 with 2 Axes>"
      ]
     },
     "metadata": {
      "needs_background": "light"
     },
     "output_type": "display_data"
    }
   ],
   "source": [
    "datos.drop(['Precio'],1).hist(facecolor='blue', alpha=0.9, bins=10)\n",
    "plt.show()"
   ]
  },
  {
   "cell_type": "code",
   "execution_count": 13,
   "id": "sticky-holly",
   "metadata": {
    "colab": {
     "base_uri": "https://localhost:8080/",
     "height": 299
    },
    "id": "sticky-holly",
    "outputId": "ee065e5b-c2b1-472b-bc66-147ca4c94f99",
    "scrolled": true
   },
   "outputs": [
    {
     "ename": "NameError",
     "evalue": "name 'datos1' is not defined",
     "output_type": "error",
     "traceback": [
      "\u001b[0;31m---------------------------------------------------------------------------\u001b[0m",
      "\u001b[0;31mNameError\u001b[0m                                 Traceback (most recent call last)",
      "\u001b[0;32m/tmp/ipykernel_303/1346527176.py\u001b[0m in \u001b[0;36m<module>\u001b[0;34m\u001b[0m\n\u001b[0;32m----> 1\u001b[0;31m \u001b[0mdatos1\u001b[0m\u001b[0;34m.\u001b[0m\u001b[0mplot\u001b[0m\u001b[0;34m.\u001b[0m\u001b[0mscatter\u001b[0m\u001b[0;34m(\u001b[0m\u001b[0mx\u001b[0m\u001b[0;34m=\u001b[0m\u001b[0;34m'CaballosFuerza'\u001b[0m\u001b[0;34m,\u001b[0m \u001b[0my\u001b[0m\u001b[0;34m=\u001b[0m\u001b[0;34m'Precio'\u001b[0m\u001b[0;34m)\u001b[0m\u001b[0;34m;\u001b[0m\u001b[0;34m\u001b[0m\u001b[0;34m\u001b[0m\u001b[0m\n\u001b[0m",
      "\u001b[0;31mNameError\u001b[0m: name 'datos1' is not defined"
     ]
    }
   ],
   "source": [
    "datos1.plot.scatter(x='CaballosFuerza', y='Precio');"
   ]
  },
  {
   "cell_type": "markdown",
   "id": "f80dffa8",
   "metadata": {},
   "source": [
    "# features and class"
   ]
  },
  {
   "cell_type": "code",
   "execution_count": 15,
   "id": "539d7460",
   "metadata": {},
   "outputs": [],
   "source": [
    "#X = np.array(datos1.drop(['Precio'],1)) #Quita etiqueta Fare al nuevo dataset X\n",
    "#Y = np.array(datos1['Precio']) #pone la etiqueta Fare al nuevo dataset Y\n",
    "\n",
    "features = ['CaballosFuerza']\n",
    "X = datos[features].to_numpy() # Features\n",
    "y = datos['Precio'].to_numpy()"
   ]
  },
  {
   "cell_type": "markdown",
   "id": "4f29c83c",
   "metadata": {},
   "source": [
    "# Dataset de entrenamiento y testeo"
   ]
  },
  {
   "cell_type": "code",
   "execution_count": 16,
   "id": "00a3606b",
   "metadata": {},
   "outputs": [],
   "source": [
    "X_train, X_test, Y_train, Y_test = train_test_split(X,y, train_size=0.5)"
   ]
  },
  {
   "cell_type": "markdown",
   "id": "af3840ac",
   "metadata": {},
   "source": [
    "# Selección de modelo\n"
   ]
  },
  {
   "cell_type": "code",
   "execution_count": 17,
   "id": "603151d8",
   "metadata": {},
   "outputs": [],
   "source": [
    "modelo = linear_model.LinearRegression()"
   ]
  },
  {
   "cell_type": "markdown",
   "id": "9aeb68a5",
   "metadata": {},
   "source": [
    "# Entretar el modelo"
   ]
  },
  {
   "cell_type": "code",
   "execution_count": 18,
   "id": "ed8f61a7",
   "metadata": {
    "scrolled": true
   },
   "outputs": [
    {
     "data": {
      "text/plain": [
       "LinearRegression()"
      ]
     },
     "execution_count": 18,
     "metadata": {},
     "output_type": "execute_result"
    }
   ],
   "source": [
    "modelo.fit(X_train, Y_train)"
   ]
  },
  {
   "cell_type": "markdown",
   "id": "524f170f",
   "metadata": {},
   "source": [
    "# Predecir con el modelo "
   ]
  },
  {
   "cell_type": "code",
   "execution_count": 19,
   "id": "e7eaa2fe",
   "metadata": {},
   "outputs": [],
   "source": [
    "Y_pred = modelo.predict(X_test)"
   ]
  },
  {
   "cell_type": "markdown",
   "id": "ce1b55fd",
   "metadata": {},
   "source": [
    "# Score"
   ]
  },
  {
   "cell_type": "code",
   "execution_count": 21,
   "id": "1ce6e181",
   "metadata": {
    "scrolled": true
   },
   "outputs": [
    {
     "data": {
      "text/plain": [
       "0.0964951585145678"
      ]
     },
     "execution_count": 21,
     "metadata": {},
     "output_type": "execute_result"
    }
   ],
   "source": [
    "modelo.score(X,y)"
   ]
  },
  {
   "cell_type": "code",
   "execution_count": null,
   "id": "f4f96bab",
   "metadata": {
    "scrolled": true
   },
   "outputs": [],
   "source": [
    "from sklearn import metrics\n",
    "# The coefficients: 1 is perfect prediction\n",
    "print('Coefficients: %.2f' % modelo.coef_)\n",
    "# The coefficient of determination: 1 is perfect prediction\n",
    "print('Coefficient of determination: %.2f' % r2_score(Y_test, Y_pred))\n",
    "print('Mean Absolute Error: %.2f' % metrics.mean_absolute_error(Y_test, Y_pred))\n",
    "print('Mean Squared Error: %.2f' % metrics.mean_squared_error(Y_test, Y_pred))\n",
    "print('Root Mean Squared Error: %.2f'% np.sqrt(metrics.mean_squared_error(Y_test, Y_pred)))"
   ]
  },
  {
   "cell_type": "markdown",
   "id": "93a015ee",
   "metadata": {},
   "source": [
    "# Resultados"
   ]
  },
  {
   "cell_type": "code",
   "execution_count": null,
   "id": "b3c2cb6d",
   "metadata": {},
   "outputs": [],
   "source": [
    "plt.scatter(X_train, Y_train,  color='blue')\n",
    "plt.plot(X_test, Y_pred, color='orange', linewidth=3)\n",
    "plt.title('Precio vs Fuerza')\n",
    "plt.xlabel('Precio')\n",
    "plt.ylabel('Caballos de Fuerza')\n",
    "#plt.xticks(())\n",
    "#plt.yticks(())\n",
    "plt.show()"
   ]
  },
  {
   "cell_type": "code",
   "execution_count": null,
   "id": "a2cfe107",
   "metadata": {
    "scrolled": true
   },
   "outputs": [],
   "source": [
    "plt.scatter(X_test, Y_test,  color='black')\n",
    "plt.plot(X_test, Y_pred, color='orange', linewidth=3)\n",
    "plt.title('Precio vs Fuerza')\n",
    "plt.xlabel('Precio')\n",
    "plt.ylabel('Caballos de Fuerza')\n",
    "#plt.xticks(())\n",
    "#plt.yticks(())\n",
    "plt.show()"
   ]
  },
  {
   "cell_type": "markdown",
   "id": "b06cdf2e",
   "metadata": {},
   "source": [
    "# Predicción de nuevos registros"
   ]
  },
  {
   "cell_type": "code",
   "execution_count": null,
   "id": "324e1a40",
   "metadata": {},
   "outputs": [],
   "source": [
    "X_new = pd.DataFrame({'Caballos de fuerza': [173]})\n",
    "modelo.predict(X_new).astype(float)\n",
    "print('La personas paga %.0f USD' % modelo.predict(X_new).astype(int))"
   ]
  }
 ],
 "metadata": {
  "colab": {
   "name": "Copy of semana 3 - regresion logistica 1.ipynb",
   "provenance": []
  },
  "hide_input": false,
  "kernelspec": {
   "display_name": "Python 3 (ipykernel)",
   "language": "python",
   "name": "python3"
  },
  "language_info": {
   "codemirror_mode": {
    "name": "ipython",
    "version": 3
   },
   "file_extension": ".py",
   "mimetype": "text/x-python",
   "name": "python",
   "nbconvert_exporter": "python",
   "pygments_lexer": "ipython3",
   "version": "3.9.6"
  },
  "toc": {
   "base_numbering": 1,
   "nav_menu": {},
   "number_sections": true,
   "sideBar": true,
   "skip_h1_title": false,
   "title_cell": "Table of Contents",
   "title_sidebar": "Contents",
   "toc_cell": false,
   "toc_position": {},
   "toc_section_display": true,
   "toc_window_display": false
  },
  "varInspector": {
   "cols": {
    "lenName": 16,
    "lenType": 16,
    "lenVar": 40
   },
   "kernels_config": {
    "python": {
     "delete_cmd_postfix": "",
     "delete_cmd_prefix": "del ",
     "library": "var_list.py",
     "varRefreshCmd": "print(var_dic_list())"
    },
    "r": {
     "delete_cmd_postfix": ") ",
     "delete_cmd_prefix": "rm(",
     "library": "var_list.r",
     "varRefreshCmd": "cat(var_dic_list()) "
    }
   },
   "types_to_exclude": [
    "module",
    "function",
    "builtin_function_or_method",
    "instance",
    "_Feature"
   ],
   "window_display": false
  }
 },
 "nbformat": 4,
 "nbformat_minor": 5
}
